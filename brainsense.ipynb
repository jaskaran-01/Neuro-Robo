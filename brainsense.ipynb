{
 "cells": [
  {
   "cell_type": "code",
   "execution_count": 1,
   "metadata": {},
   "outputs": [
    {
     "name": "stderr",
     "output_type": "stream",
     "text": [
      "C:\\Users\\jaska\\AppData\\Local\\Temp\\ipykernel_3588\\2778597192.py:4: DeprecationWarning: 'telnetlib' is deprecated and slated for removal in Python 3.13\n",
      "  from telnetlib import Telnet\n"
     ]
    }
   ],
   "source": [
    "import json\n",
    "import datetime\n",
    "import time\n",
    "from telnetlib import Telnet\n",
    "import csv\n",
    "dtm=datetime.datetime.now()\n"
   ]
  },
  {
   "cell_type": "code",
   "execution_count": 2,
   "metadata": {},
   "outputs": [],
   "source": [
    "def printf(arg):\n",
    "    timestamp=datetime.datetime.now()-dtm\n",
    "    print(str(timestamp)+\":      \"+str(arg))"
   ]
  },
  {
   "cell_type": "code",
   "execution_count": 3,
   "metadata": {},
   "outputs": [],
   "source": [
    "def blink(blinkStr):\n",
    "    timestamp=datetime.datetime.now() - dtm\n",
    "    with open(\"Output_data.csv\",'w') as csvfile:\n",
    "        row=[str(timestamp),blinkStr]\n",
    "        csvwriter = csv.writer(csvfile, quoting=csv.QUOTE_ALL)\n",
    "        csvwriter.writerow(row)"
   ]
  },
  {
   "cell_type": "code",
   "execution_count": 4,
   "metadata": {},
   "outputs": [
    {
     "name": "stdout",
     "output_type": "stream",
     "text": [
      "2.0869157314300537:      Connecting TCP Socket Host socket:{socket} ...\n"
     ]
    }
   ],
   "source": [
    "socket=13854\n",
    "con= Telnet('localhost', socket)\n",
    "con.write(b'{\"enableRawOutput\": true, \"format\": \"Json\"}')\n",
    "printf(\"Connecting TCP Socket Host socket:{socket} ...\")"
   ]
  },
  {
   "cell_type": "code",
   "execution_count": 5,
   "metadata": {},
   "outputs": [
    {
     "name": "stdout",
     "output_type": "stream",
     "text": [
      "2.094029664993286:      <telnetlib.Telnet object at 0x0000021644E13410> configured succesfully\n"
     ]
    }
   ],
   "source": [
    "printf(str(con)+\" configured succesfully\")"
   ]
  },
  {
   "cell_type": "code",
   "execution_count": 6,
   "metadata": {},
   "outputs": [],
   "source": [
    "status=\"NotConnected\"\n",
    "attention=None \n",
    "meditation = None\n",
    "theta =None\n",
    "delta = None\n",
    "lowAlpha = None\n",
    "highAlpha = None\n",
    "lowBeta = None\n",
    "highBeta = None\n",
    "lowGamma = None\n",
    "highGamma = None\n",
    "__attention_records=[]"
   ]
  },
  {
   "cell_type": "code",
   "execution_count": 7,
   "metadata": {},
   "outputs": [
    {
     "name": "stdout",
     "output_type": "stream",
     "text": [
      "2.6502859592437744:      Scanning device..\n",
      "2.6502859592437744:      Not Blinking{'poorSignalLevel': 200, 'status': 'scanning'}\n",
      "3.151472568511963:      Not Blinking{'poorSignalLevel': 200, 'status': 'scanning'}\n",
      "3.666578769683838:      Not Blinking{'poorSignalLevel': 200, 'status': 'scanning'}\n",
      "4.176119327545166:      Not Blinking{'poorSignalLevel': 200, 'status': 'scanning'}\n",
      "4.6915881633758545:      Not Blinking{'poorSignalLevel': 200, 'status': 'scanning'}\n",
      "5.203062057495117:      Not Blinking{'poorSignalLevel': 200, 'status': 'scanning'}\n",
      "5.71518611907959:      Not Blinking{'poorSignalLevel': 200, 'status': 'scanning'}\n",
      "6.22656774520874:      Not Blinking{'poorSignalLevel': 200, 'status': 'scanning'}\n",
      "6.742350101470947:      Not Blinking{'poorSignalLevel': 200, 'status': 'scanning'}\n",
      "7.25822377204895:      Not Blinking{'poorSignalLevel': 200, 'status': 'scanning'}\n"
     ]
    },
    {
     "ename": "KeyboardInterrupt",
     "evalue": "",
     "output_type": "error",
     "traceback": [
      "\u001b[1;31m---------------------------------------------------------------------------\u001b[0m",
      "\u001b[1;31mKeyboardInterrupt\u001b[0m                         Traceback (most recent call last)",
      "Cell \u001b[1;32mIn[7], line 2\u001b[0m\n\u001b[0;32m      1\u001b[0m \u001b[38;5;28;01mwhile\u001b[39;00m \u001b[38;5;28;01mTrue\u001b[39;00m:\n\u001b[1;32m----> 2\u001b[0m     line \u001b[38;5;241m=\u001b[39m \u001b[43mcon\u001b[49m\u001b[38;5;241;43m.\u001b[39;49m\u001b[43mread_until\u001b[49m\u001b[43m(\u001b[49m\u001b[38;5;124;43mb\u001b[39;49m\u001b[38;5;124;43m'\u001b[39;49m\u001b[38;5;130;43;01m\\r\u001b[39;49;00m\u001b[38;5;124;43m'\u001b[39;49m\u001b[43m)\u001b[49m;\n\u001b[0;32m      3\u001b[0m     \u001b[38;5;28;01mif\u001b[39;00m \u001b[38;5;28mlen\u001b[39m(line) \u001b[38;5;241m>\u001b[39m \u001b[38;5;241m20\u001b[39m:\n\u001b[0;32m      4\u001b[0m         \u001b[38;5;28;01mtry\u001b[39;00m:\n",
      "File \u001b[1;32mc:\\Users\\jaska\\AppData\\Local\\Programs\\Python\\Python311\\Lib\\telnetlib.py:318\u001b[0m, in \u001b[0;36mTelnet.read_until\u001b[1;34m(self, match, timeout)\u001b[0m\n\u001b[0;32m    316\u001b[0m selector\u001b[38;5;241m.\u001b[39mregister(\u001b[38;5;28mself\u001b[39m, selectors\u001b[38;5;241m.\u001b[39mEVENT_READ)\n\u001b[0;32m    317\u001b[0m \u001b[38;5;28;01mwhile\u001b[39;00m \u001b[38;5;129;01mnot\u001b[39;00m \u001b[38;5;28mself\u001b[39m\u001b[38;5;241m.\u001b[39meof:\n\u001b[1;32m--> 318\u001b[0m     \u001b[38;5;28;01mif\u001b[39;00m \u001b[43mselector\u001b[49m\u001b[38;5;241;43m.\u001b[39;49m\u001b[43mselect\u001b[49m\u001b[43m(\u001b[49m\u001b[43mtimeout\u001b[49m\u001b[43m)\u001b[49m:\n\u001b[0;32m    319\u001b[0m         i \u001b[38;5;241m=\u001b[39m \u001b[38;5;28mmax\u001b[39m(\u001b[38;5;241m0\u001b[39m, \u001b[38;5;28mlen\u001b[39m(\u001b[38;5;28mself\u001b[39m\u001b[38;5;241m.\u001b[39mcookedq)\u001b[38;5;241m-\u001b[39mn)\n\u001b[0;32m    320\u001b[0m         \u001b[38;5;28mself\u001b[39m\u001b[38;5;241m.\u001b[39mfill_rawq()\n",
      "File \u001b[1;32mc:\\Users\\jaska\\AppData\\Local\\Programs\\Python\\Python311\\Lib\\selectors.py:323\u001b[0m, in \u001b[0;36mSelectSelector.select\u001b[1;34m(self, timeout)\u001b[0m\n\u001b[0;32m    321\u001b[0m ready \u001b[38;5;241m=\u001b[39m []\n\u001b[0;32m    322\u001b[0m \u001b[38;5;28;01mtry\u001b[39;00m:\n\u001b[1;32m--> 323\u001b[0m     r, w, _ \u001b[38;5;241m=\u001b[39m \u001b[38;5;28;43mself\u001b[39;49m\u001b[38;5;241;43m.\u001b[39;49m\u001b[43m_select\u001b[49m\u001b[43m(\u001b[49m\u001b[38;5;28;43mself\u001b[39;49m\u001b[38;5;241;43m.\u001b[39;49m\u001b[43m_readers\u001b[49m\u001b[43m,\u001b[49m\u001b[43m \u001b[49m\u001b[38;5;28;43mself\u001b[39;49m\u001b[38;5;241;43m.\u001b[39;49m\u001b[43m_writers\u001b[49m\u001b[43m,\u001b[49m\u001b[43m \u001b[49m\u001b[43m[\u001b[49m\u001b[43m]\u001b[49m\u001b[43m,\u001b[49m\u001b[43m \u001b[49m\u001b[43mtimeout\u001b[49m\u001b[43m)\u001b[49m\n\u001b[0;32m    324\u001b[0m \u001b[38;5;28;01mexcept\u001b[39;00m \u001b[38;5;167;01mInterruptedError\u001b[39;00m:\n\u001b[0;32m    325\u001b[0m     \u001b[38;5;28;01mreturn\u001b[39;00m ready\n",
      "File \u001b[1;32mc:\\Users\\jaska\\AppData\\Local\\Programs\\Python\\Python311\\Lib\\selectors.py:314\u001b[0m, in \u001b[0;36mSelectSelector._select\u001b[1;34m(self, r, w, _, timeout)\u001b[0m\n\u001b[0;32m    313\u001b[0m \u001b[38;5;28;01mdef\u001b[39;00m \u001b[38;5;21m_select\u001b[39m(\u001b[38;5;28mself\u001b[39m, r, w, _, timeout\u001b[38;5;241m=\u001b[39m\u001b[38;5;28;01mNone\u001b[39;00m):\n\u001b[1;32m--> 314\u001b[0m     r, w, x \u001b[38;5;241m=\u001b[39m select\u001b[38;5;241m.\u001b[39mselect(r, w, w, timeout)\n\u001b[0;32m    315\u001b[0m     \u001b[38;5;28;01mreturn\u001b[39;00m r, w \u001b[38;5;241m+\u001b[39m x, []\n",
      "\u001b[1;31mKeyboardInterrupt\u001b[0m: "
     ]
    }
   ],
   "source": [
    "while True:\n",
    "    line = con.read_until(b'\\r');\n",
    "    if len(line) > 20:\n",
    "        try:\n",
    "            raw_str = (str(line).rstrip(\"\\\\r'\").lstrip(\"b'\"))\n",
    "            data = json.loads(raw_str)\n",
    "            if \"status\" in data.keys():\n",
    "                if status != data[\"status\"]:\n",
    "                    status = data[\"status\"]\n",
    "                    if data[\"status\"] == \"scanning\":\n",
    "                        printf(\"Scanning device..\")\n",
    "                    else:\n",
    "                        printf(\"Connection lost, trying to reconnect..\")\n",
    "            else:\n",
    "                if \"eSense\" in data.keys():\n",
    "                    if data[\"eSense\"][\"attention\"] + data[\"eSense\"][\"meditation\"] == 0:\n",
    "                        if status != \"fitting\":\n",
    "                            status = \"fitting\"\n",
    "                            printf(\"Fitting Device..\")\n",
    "\n",
    "                    else:\n",
    "                        if status != \"connected\":\n",
    "                            status = \"connected\"\n",
    "                            printf(\"Successfully Connected ..\")\n",
    "                        attention = data[\"eSense\"][\"attention\"]\n",
    "                        meditation = data[\"eSense\"][\"meditation\"]\n",
    "                        theta = data['eegPower']['theta']\n",
    "                        delta = data['eegPower']['delta']\n",
    "                        lowAlpha = data['eegPower']['lowAlpha']\n",
    "                        highAlpha = data['eegPower']['highAlpha']\n",
    "                        lowBeta = data['eegPower']['lowBeta']\n",
    "                        highBeta = data['eegPower']['highBeta']\n",
    "                        lowGamma = data['eegPower']['lowGamma']\n",
    "                        highGamma = data['eegPower']['highGamma']\n",
    "                        __attention_records.append(data[\"eSense\"][\"attention\"])\n",
    "                        __attention_records.append(data[\"eSense\"][\"meditation\"])\n",
    "                elif \"blinkStrength\" in data.keys():\n",
    "                    blinkStrength = data[\"blinkStrength\"]\n",
    "                    printf(blinkStrength)\n",
    "                    blink(blinkStrength)\n",
    "\n",
    "        except:\n",
    "            printf(\"Read failure\")\n",
    "        try:\n",
    "            printf(\"Blinking \"+data[\"blinkStrength\"])\n",
    "            blink(data[\"blinkStrength\"])\n",
    "        except:\n",
    "            printf(\"Not Blinking\"+str(data))"
   ]
  }
 ],
 "metadata": {
  "kernelspec": {
   "display_name": "Python 3",
   "language": "python",
   "name": "python3"
  },
  "language_info": {
   "codemirror_mode": {
    "name": "ipython",
    "version": 3
   },
   "file_extension": ".py",
   "mimetype": "text/x-python",
   "name": "python",
   "nbconvert_exporter": "python",
   "pygments_lexer": "ipython3",
   "version": "3.11.5"
  }
 },
 "nbformat": 4,
 "nbformat_minor": 2
}
