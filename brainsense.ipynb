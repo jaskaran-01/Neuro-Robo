{
 "cells": [
  {
   "cell_type": "code",
   "execution_count": 8,
   "metadata": {},
   "outputs": [],
   "source": [
    "import json\n",
    "import datetime\n",
    "import time\n",
    "from telnetlib import Telnet\n",
    "import csv\n",
    "dtm=datetime.datetime.now()\n",
    "file=open(\"Output_data.csv\",'w')\n",
    "file.close() \n"
   ]
  },
  {
   "cell_type": "code",
   "execution_count": 9,
   "metadata": {},
   "outputs": [],
   "source": [
    "def printf(arg):\n",
    "    timestamp=datetime.datetime.now()-dtm\n",
    "    print(str(timestamp)+\":      \"+str(arg))"
   ]
  },
  {
   "cell_type": "code",
   "execution_count": 10,
   "metadata": {},
   "outputs": [],
   "source": [
    "def blink(blinkStr):\n",
    "    timestamp=datetime.datetime.now() - dtm\n",
    "    with open(\"Output_data.csv\",'a') as csvfile:\n",
    "        row=[str(timestamp),blinkStr]\n",
    "        csvwriter = csv.writer(csvfile, quoting=csv.QUOTE_ALL)\n",
    "        csvwriter.writerow(row)\n",
    "        csvfile.close()"
   ]
  },
  {
   "cell_type": "code",
   "execution_count": 11,
   "metadata": {},
   "outputs": [
    {
     "name": "stdout",
     "output_type": "stream",
     "text": [
      "0:00:02.057075:      Connecting TCP Socket Host socket:{socket} ...\n"
     ]
    }
   ],
   "source": [
    "socket=13854\n",
    "con= Telnet('localhost', socket)\n",
    "con.write(b'{\"enableRawOutput\": true, \"format\": \"Json\"}')\n",
    "printf(\"Connecting TCP Socket Host socket:{socket} ...\")"
   ]
  },
  {
   "cell_type": "code",
   "execution_count": 12,
   "metadata": {},
   "outputs": [
    {
     "name": "stdout",
     "output_type": "stream",
     "text": [
      "0:00:02.065014:      <telnetlib.Telnet object at 0x0000021644E10910> configured succesfully\n"
     ]
    }
   ],
   "source": [
    "printf(str(con)+\" configured succesfully\")"
   ]
  },
  {
   "cell_type": "code",
   "execution_count": 13,
   "metadata": {},
   "outputs": [],
   "source": [
    "status=\"NotConnected\"\n",
    "attention=None \n",
    "meditation = None\n",
    "theta =None\n",
    "delta = None\n",
    "lowAlpha = None\n",
    "highAlpha = None\n",
    "lowBeta = None\n",
    "highBeta = None\n",
    "lowGamma = None\n",
    "highGamma = None\n",
    "__attention_records=[]"
   ]
  },
  {
   "cell_type": "code",
   "execution_count": 14,
   "metadata": {},
   "outputs": [
    {
     "name": "stdout",
     "output_type": "stream",
     "text": [
      "0:00:02.398768:      Scanning device..\n"
     ]
    }
   ],
   "source": [
    "while True:\n",
    "    line = con.read_until(b'\\r');\n",
    "    if len(line) > 20:\n",
    "        try:\n",
    "            raw_str = (str(line).rstrip(\"\\\\r'\").lstrip(\"b'\"))\n",
    "            data = json.loads(raw_str)\n",
    "            if \"status\" in data.keys():\n",
    "                if status != data[\"status\"]:\n",
    "                    status = data[\"status\"]\n",
    "                    if data[\"status\"] == \"scanning\":\n",
    "                        printf(\"Scanning device..\")\n",
    "                    else:\n",
    "                        printf(\"Connection lost, trying to reconnect..\")\n",
    "            else:\n",
    "                if \"eSense\" in data.keys():\n",
    "                    if data[\"eSense\"][\"attention\"] + data[\"eSense\"][\"meditation\"] == 0:\n",
    "                        if status != \"fitting\":\n",
    "                            status = \"fitting\"\n",
    "                            printf(\"Fitting Device..\")\n",
    "\n",
    "                    else:\n",
    "                        if status != \"connected\":\n",
    "                            status = \"connected\"\n",
    "                            printf(\"Successfully Connected ..\")\n",
    "                        attention = data[\"eSense\"][\"attention\"]\n",
    "                        meditation = data[\"eSense\"][\"meditation\"]\n",
    "                        theta = data['eegPower']['theta']\n",
    "                        delta = data['eegPower']['delta']\n",
    "                        lowAlpha = data['eegPower']['lowAlpha']\n",
    "                        highAlpha = data['eegPower']['highAlpha']\n",
    "                        lowBeta = data['eegPower']['lowBeta']\n",
    "                        highBeta = data['eegPower']['highBeta']\n",
    "                        lowGamma = data['eegPower']['lowGamma']\n",
    "                        highGamma = data['eegPower']['highGamma']\n",
    "                        __attention_records.append(data[\"eSense\"][\"attention\"])\n",
    "                        __attention_records.append(data[\"eSense\"][\"meditation\"])\n",
    "                        printf(data)\n",
    "                elif \"blinkStrength\" in data.keys():\n",
    "                    blinkStrength = data[\"blinkStrength\"]\n",
    "                    printf(blinkStrength)\n",
    "                    blink(blinkStrength)\n",
    "\n",
    "        except:\n",
    "            printf(\"Read failure\")\n"
   ]
  }
 ],
 "metadata": {
  "kernelspec": {
   "display_name": "Python 3",
   "language": "python",
   "name": "python3"
  },
  "language_info": {
   "codemirror_mode": {
    "name": "ipython",
    "version": 3
   },
   "file_extension": ".py",
   "mimetype": "text/x-python",
   "name": "python",
   "nbconvert_exporter": "python",
   "pygments_lexer": "ipython3",
   "version": "3.11.5"
  }
 },
 "nbformat": 4,
 "nbformat_minor": 2
}
