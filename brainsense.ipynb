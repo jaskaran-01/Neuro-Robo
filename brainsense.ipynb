{
 "cells": [
  {
   "cell_type": "code",
   "execution_count": 1,
   "metadata": {},
   "outputs": [
    {
     "name": "stderr",
     "output_type": "stream",
     "text": [
      "C:\\Users\\jaska\\AppData\\Local\\Temp\\ipykernel_7308\\2778597192.py:4: DeprecationWarning: 'telnetlib' is deprecated and slated for removal in Python 3.13\n",
      "  from telnetlib import Telnet\n"
     ]
    }
   ],
   "source": [
    "import json\n",
    "import datetime\n",
    "import time\n",
    "from telnetlib import Telnet\n",
    "import csv\n",
    "dtm=time.time()\n"
   ]
  },
  {
   "cell_type": "code",
   "execution_count": 2,
   "metadata": {},
   "outputs": [],
   "source": [
    "def printf(arg):\n",
    "    timestamp=time.time() - dtm\n",
    "    print(str(timestamp)+\":      \"+str(arg))"
   ]
  },
  {
   "cell_type": "code",
   "execution_count": 3,
   "metadata": {},
   "outputs": [],
   "source": [
    "def blink(blinkStr):\n",
    "    timestamp=time.time() - dtm\n",
    "    with open(\"Output_data.csv\",'w') as csvfile:\n",
    "        row=[str(timestamp),blinkStr]\n",
    "        csvwriter = csv.writer(csvfile, quoting=csv.QUOTE_ALL)\n",
    "        csvwriter.writerow(row)"
   ]
  },
  {
   "cell_type": "code",
   "execution_count": 4,
   "metadata": {},
   "outputs": [
    {
     "name": "stdout",
     "output_type": "stream",
     "text": [
      "2.056504487991333:      Connecting TCP Socket Host socket:{socket} ...\n"
     ]
    }
   ],
   "source": [
    "socket=13854\n",
    "con= Telnet('localhost', socket)\n",
    "con.write(b'{\"enableRawOutput\": true, \"format\": \"Json\"}')\n",
    "printf(\"Connecting TCP Socket Host socket:{socket} ...\")"
   ]
  },
  {
   "cell_type": "code",
   "execution_count": 5,
   "metadata": {},
   "outputs": [
    {
     "name": "stdout",
     "output_type": "stream",
     "text": [
      "2.062389850616455:      <telnetlib.Telnet object at 0x000002738C69FD90> configured succesfully\n"
     ]
    }
   ],
   "source": [
    "printf(str(con)+\" configured succesfully\")"
   ]
  },
  {
   "cell_type": "code",
   "execution_count": 6,
   "metadata": {},
   "outputs": [],
   "source": [
    "status=\"NotConnected\"\n",
    "attention=None \n",
    "meditation = None\n",
    "theta =None\n",
    "delta = None\n",
    "lowAlpha = None\n",
    "highAlpha = None\n",
    "lowBeta = None\n",
    "highBeta = None\n",
    "lowGamma = None\n",
    "highGamma = None\n",
    "__attention_records=[]"
   ]
  },
  {
   "cell_type": "code",
   "execution_count": 7,
   "metadata": {},
   "outputs": [
    {
     "name": "stdout",
     "output_type": "stream",
     "text": [
      "2.5542044639587402:      Scanning device..\n",
      "2.5542044639587402:      Not Blinking{'poorSignalLevel': 200, 'status': 'scanning'}\n",
      "3.0666000843048096:      Not Blinking{'poorSignalLevel': 200, 'status': 'scanning'}\n",
      "3.57902455329895:      Not Blinking{'poorSignalLevel': 200, 'status': 'scanning'}\n",
      "4.079733371734619:      Not Blinking{'poorSignalLevel': 200, 'status': 'scanning'}\n",
      "4.593557834625244:      Not Blinking{'poorSignalLevel': 200, 'status': 'scanning'}\n",
      "5.104698657989502:      Not Blinking{'poorSignalLevel': 200, 'status': 'scanning'}\n",
      "5.605310916900635:      Not Blinking{'poorSignalLevel': 200, 'status': 'scanning'}\n",
      "6.121086835861206:      Not Blinking{'poorSignalLevel': 200, 'status': 'scanning'}\n",
      "6.6318275928497314:      Not Blinking{'poorSignalLevel': 200, 'status': 'scanning'}\n",
      "7.147272348403931:      Not Blinking{'poorSignalLevel': 200, 'status': 'scanning'}\n",
      "7.648944139480591:      Not Blinking{'poorSignalLevel': 200, 'status': 'scanning'}\n",
      "8.160855770111084:      Not Blinking{'poorSignalLevel': 200, 'status': 'scanning'}\n",
      "8.670968055725098:      Not Blinking{'poorSignalLevel': 200, 'status': 'scanning'}\n",
      "9.182897329330444:      Not Blinking{'poorSignalLevel': 200, 'status': 'scanning'}\n",
      "9.694160223007202:      Not Blinking{'poorSignalLevel': 200, 'status': 'scanning'}\n",
      "10.207622289657593:      Not Blinking{'poorSignalLevel': 200, 'status': 'scanning'}\n",
      "10.721323013305664:      Not Blinking{'poorSignalLevel': 200, 'status': 'scanning'}\n",
      "11.231908082962036:      Not Blinking{'poorSignalLevel': 200, 'status': 'scanning'}\n",
      "11.744307041168213:      Not Blinking{'poorSignalLevel': 200, 'status': 'scanning'}\n",
      "12.255847692489624:      Not Blinking{'poorSignalLevel': 200, 'status': 'scanning'}\n",
      "12.769046783447266:      Not Blinking{'poorSignalLevel': 200, 'status': 'scanning'}\n",
      "13.284117221832275:      Not Blinking{'poorSignalLevel': 200, 'status': 'scanning'}\n",
      "13.796052694320679:      Not Blinking{'poorSignalLevel': 200, 'status': 'scanning'}\n",
      "14.307985305786133:      Not Blinking{'poorSignalLevel': 200, 'status': 'scanning'}\n",
      "14.819420337677002:      Not Blinking{'poorSignalLevel': 200, 'status': 'scanning'}\n",
      "15.333246946334839:      Not Blinking{'poorSignalLevel': 200, 'status': 'scanning'}\n",
      "15.84480905532837:      Not Blinking{'poorSignalLevel': 200, 'status': 'scanning'}\n",
      "16.355494737625122:      Not Blinking{'poorSignalLevel': 200, 'status': 'scanning'}\n",
      "16.869247674942017:      Not Blinking{'poorSignalLevel': 200, 'status': 'scanning'}\n",
      "17.382164239883423:      Not Blinking{'poorSignalLevel': 200, 'status': 'scanning'}\n",
      "17.89547848701477:      Not Blinking{'poorSignalLevel': 200, 'status': 'scanning'}\n",
      "18.408557891845703:      Not Blinking{'poorSignalLevel': 200, 'status': 'scanning'}\n",
      "18.90969944000244:      Not Blinking{'poorSignalLevel': 200, 'status': 'scanning'}\n",
      "19.42310643196106:      Not Blinking{'poorSignalLevel': 200, 'status': 'scanning'}\n",
      "19.933374166488647:      Not Blinking{'poorSignalLevel': 200, 'status': 'scanning'}\n",
      "20.444458723068237:      Not Blinking{'poorSignalLevel': 200, 'status': 'scanning'}\n",
      "20.958733320236206:      Not Blinking{'poorSignalLevel': 200, 'status': 'scanning'}\n",
      "21.473836660385132:      Not Blinking{'poorSignalLevel': 200, 'status': 'scanning'}\n",
      "21.985612630844116:      Not Blinking{'poorSignalLevel': 200, 'status': 'scanning'}\n",
      "22.499146461486816:      Not Blinking{'poorSignalLevel': 200, 'status': 'scanning'}\n",
      "23.014089345932007:      Not Blinking{'poorSignalLevel': 200, 'status': 'scanning'}\n",
      "23.5280282497406:      Not Blinking{'poorSignalLevel': 200, 'status': 'scanning'}\n",
      "24.038931608200073:      Not Blinking{'poorSignalLevel': 200, 'status': 'scanning'}\n",
      "24.549893379211426:      Not Blinking{'poorSignalLevel': 200, 'status': 'scanning'}\n",
      "25.06354784965515:      Not Blinking{'poorSignalLevel': 200, 'status': 'scanning'}\n",
      "25.577680110931396:      Not Blinking{'poorSignalLevel': 200, 'status': 'scanning'}\n",
      "26.08957028388977:      Not Blinking{'poorSignalLevel': 200, 'status': 'scanning'}\n",
      "26.60410237312317:      Not Blinking{'poorSignalLevel': 200, 'status': 'scanning'}\n",
      "27.11675786972046:      Not Blinking{'poorSignalLevel': 200, 'status': 'scanning'}\n",
      "27.630467414855957:      Not Blinking{'poorSignalLevel': 200, 'status': 'scanning'}\n",
      "28.14139223098755:      Not Blinking{'poorSignalLevel': 200, 'status': 'scanning'}\n",
      "28.652021884918213:      Not Blinking{'poorSignalLevel': 200, 'status': 'scanning'}\n",
      "29.167076587677002:      Not Blinking{'poorSignalLevel': 200, 'status': 'scanning'}\n",
      "29.680347204208374:      Not Blinking{'poorSignalLevel': 200, 'status': 'scanning'}\n",
      "30.195627212524414:      Not Blinking{'poorSignalLevel': 200, 'status': 'scanning'}\n",
      "30.705530881881714:      Not Blinking{'poorSignalLevel': 200, 'status': 'scanning'}\n",
      "31.219807147979736:      Not Blinking{'poorSignalLevel': 200, 'status': 'scanning'}\n",
      "31.732592821121216:      Not Blinking{'poorSignalLevel': 200, 'status': 'scanning'}\n",
      "32.24409604072571:      Not Blinking{'poorSignalLevel': 200, 'status': 'scanning'}\n",
      "32.75419354438782:      Not Blinking{'poorSignalLevel': 200, 'status': 'scanning'}\n",
      "33.267841815948486:      Not Blinking{'poorSignalLevel': 200, 'status': 'scanning'}\n",
      "33.779043436050415:      Not Blinking{'poorSignalLevel': 200, 'status': 'scanning'}\n",
      "34.293829679489136:      Not Blinking{'poorSignalLevel': 200, 'status': 'scanning'}\n",
      "34.805729389190674:      Not Blinking{'poorSignalLevel': 200, 'status': 'scanning'}\n",
      "35.319605112075806:      Not Blinking{'poorSignalLevel': 200, 'status': 'scanning'}\n",
      "35.821165800094604:      Not Blinking{'poorSignalLevel': 200, 'status': 'scanning'}\n",
      "36.330333948135376:      Not Blinking{'poorSignalLevel': 200, 'status': 'scanning'}\n",
      "36.844735860824585:      Not Blinking{'poorSignalLevel': 200, 'status': 'scanning'}\n",
      "37.354357957839966:      Not Blinking{'poorSignalLevel': 200, 'status': 'scanning'}\n",
      "37.86705422401428:      Not Blinking{'poorSignalLevel': 200, 'status': 'scanning'}\n",
      "38.379048109054565:      Not Blinking{'poorSignalLevel': 200, 'status': 'scanning'}\n",
      "38.89127063751221:      Not Blinking{'poorSignalLevel': 200, 'status': 'scanning'}\n",
      "39.40472912788391:      Not Blinking{'poorSignalLevel': 200, 'status': 'scanning'}\n",
      "39.919090032577515:      Not Blinking{'poorSignalLevel': 200, 'status': 'scanning'}\n",
      "40.43138670921326:      Not Blinking{'poorSignalLevel': 200, 'status': 'scanning'}\n",
      "40.94285559654236:      Not Blinking{'poorSignalLevel': 200, 'status': 'scanning'}\n",
      "41.456833839416504:      Not Blinking{'poorSignalLevel': 200, 'status': 'scanning'}\n",
      "41.96964144706726:      Not Blinking{'poorSignalLevel': 200, 'status': 'scanning'}\n",
      "42.48447299003601:      Not Blinking{'poorSignalLevel': 200, 'status': 'scanning'}\n",
      "42.99983525276184:      Not Blinking{'poorSignalLevel': 200, 'status': 'scanning'}\n",
      "43.51114106178284:      Not Blinking{'poorSignalLevel': 200, 'status': 'scanning'}\n",
      "44.02564334869385:      Not Blinking{'poorSignalLevel': 200, 'status': 'scanning'}\n",
      "44.541263818740845:      Not Blinking{'poorSignalLevel': 200, 'status': 'scanning'}\n",
      "45.052305698394775:      Not Blinking{'poorSignalLevel': 200, 'status': 'scanning'}\n",
      "45.56773114204407:      Not Blinking{'poorSignalLevel': 200, 'status': 'scanning'}\n",
      "46.07959723472595:      Not Blinking{'poorSignalLevel': 200, 'status': 'scanning'}\n",
      "46.5917067527771:      Not Blinking{'poorSignalLevel': 200, 'status': 'scanning'}\n",
      "47.10585331916809:      Not Blinking{'poorSignalLevel': 200, 'status': 'scanning'}\n",
      "47.61672520637512:      Not Blinking{'poorSignalLevel': 200, 'status': 'scanning'}\n",
      "48.12935137748718:      Not Blinking{'poorSignalLevel': 200, 'status': 'scanning'}\n",
      "48.64447999000549:      Not Blinking{'poorSignalLevel': 200, 'status': 'scanning'}\n",
      "49.14514946937561:      Not Blinking{'poorSignalLevel': 200, 'status': 'scanning'}\n",
      "49.65959286689758:      Not Blinking{'poorSignalLevel': 200, 'status': 'scanning'}\n",
      "50.1688175201416:      Not Blinking{'poorSignalLevel': 200, 'status': 'scanning'}\n",
      "50.68222141265869:      Not Blinking{'poorSignalLevel': 200, 'status': 'scanning'}\n",
      "51.192930459976196:      Not Blinking{'poorSignalLevel': 200, 'status': 'scanning'}\n"
     ]
    },
    {
     "ename": "KeyboardInterrupt",
     "evalue": "",
     "output_type": "error",
     "traceback": [
      "\u001b[1;31m---------------------------------------------------------------------------\u001b[0m",
      "\u001b[1;31mKeyboardInterrupt\u001b[0m                         Traceback (most recent call last)",
      "Cell \u001b[1;32mIn[7], line 2\u001b[0m\n\u001b[0;32m      1\u001b[0m \u001b[38;5;28;01mwhile\u001b[39;00m \u001b[38;5;28;01mTrue\u001b[39;00m:\n\u001b[1;32m----> 2\u001b[0m     line \u001b[38;5;241m=\u001b[39m \u001b[43mcon\u001b[49m\u001b[38;5;241;43m.\u001b[39;49m\u001b[43mread_until\u001b[49m\u001b[43m(\u001b[49m\u001b[38;5;124;43mb\u001b[39;49m\u001b[38;5;124;43m'\u001b[39;49m\u001b[38;5;130;43;01m\\r\u001b[39;49;00m\u001b[38;5;124;43m'\u001b[39;49m\u001b[43m)\u001b[49m;\n\u001b[0;32m      3\u001b[0m     \u001b[38;5;28;01mif\u001b[39;00m \u001b[38;5;28mlen\u001b[39m(line) \u001b[38;5;241m>\u001b[39m \u001b[38;5;241m20\u001b[39m:\n\u001b[0;32m      4\u001b[0m         \u001b[38;5;28;01mtry\u001b[39;00m:\n",
      "File \u001b[1;32mc:\\Users\\jaska\\AppData\\Local\\Programs\\Python\\Python311\\Lib\\telnetlib.py:318\u001b[0m, in \u001b[0;36mTelnet.read_until\u001b[1;34m(self, match, timeout)\u001b[0m\n\u001b[0;32m    316\u001b[0m selector\u001b[38;5;241m.\u001b[39mregister(\u001b[38;5;28mself\u001b[39m, selectors\u001b[38;5;241m.\u001b[39mEVENT_READ)\n\u001b[0;32m    317\u001b[0m \u001b[38;5;28;01mwhile\u001b[39;00m \u001b[38;5;129;01mnot\u001b[39;00m \u001b[38;5;28mself\u001b[39m\u001b[38;5;241m.\u001b[39meof:\n\u001b[1;32m--> 318\u001b[0m     \u001b[38;5;28;01mif\u001b[39;00m \u001b[43mselector\u001b[49m\u001b[38;5;241;43m.\u001b[39;49m\u001b[43mselect\u001b[49m\u001b[43m(\u001b[49m\u001b[43mtimeout\u001b[49m\u001b[43m)\u001b[49m:\n\u001b[0;32m    319\u001b[0m         i \u001b[38;5;241m=\u001b[39m \u001b[38;5;28mmax\u001b[39m(\u001b[38;5;241m0\u001b[39m, \u001b[38;5;28mlen\u001b[39m(\u001b[38;5;28mself\u001b[39m\u001b[38;5;241m.\u001b[39mcookedq)\u001b[38;5;241m-\u001b[39mn)\n\u001b[0;32m    320\u001b[0m         \u001b[38;5;28mself\u001b[39m\u001b[38;5;241m.\u001b[39mfill_rawq()\n",
      "File \u001b[1;32mc:\\Users\\jaska\\AppData\\Local\\Programs\\Python\\Python311\\Lib\\selectors.py:323\u001b[0m, in \u001b[0;36mSelectSelector.select\u001b[1;34m(self, timeout)\u001b[0m\n\u001b[0;32m    321\u001b[0m ready \u001b[38;5;241m=\u001b[39m []\n\u001b[0;32m    322\u001b[0m \u001b[38;5;28;01mtry\u001b[39;00m:\n\u001b[1;32m--> 323\u001b[0m     r, w, _ \u001b[38;5;241m=\u001b[39m \u001b[38;5;28;43mself\u001b[39;49m\u001b[38;5;241;43m.\u001b[39;49m\u001b[43m_select\u001b[49m\u001b[43m(\u001b[49m\u001b[38;5;28;43mself\u001b[39;49m\u001b[38;5;241;43m.\u001b[39;49m\u001b[43m_readers\u001b[49m\u001b[43m,\u001b[49m\u001b[43m \u001b[49m\u001b[38;5;28;43mself\u001b[39;49m\u001b[38;5;241;43m.\u001b[39;49m\u001b[43m_writers\u001b[49m\u001b[43m,\u001b[49m\u001b[43m \u001b[49m\u001b[43m[\u001b[49m\u001b[43m]\u001b[49m\u001b[43m,\u001b[49m\u001b[43m \u001b[49m\u001b[43mtimeout\u001b[49m\u001b[43m)\u001b[49m\n\u001b[0;32m    324\u001b[0m \u001b[38;5;28;01mexcept\u001b[39;00m \u001b[38;5;167;01mInterruptedError\u001b[39;00m:\n\u001b[0;32m    325\u001b[0m     \u001b[38;5;28;01mreturn\u001b[39;00m ready\n",
      "File \u001b[1;32mc:\\Users\\jaska\\AppData\\Local\\Programs\\Python\\Python311\\Lib\\selectors.py:314\u001b[0m, in \u001b[0;36mSelectSelector._select\u001b[1;34m(self, r, w, _, timeout)\u001b[0m\n\u001b[0;32m    313\u001b[0m \u001b[38;5;28;01mdef\u001b[39;00m \u001b[38;5;21m_select\u001b[39m(\u001b[38;5;28mself\u001b[39m, r, w, _, timeout\u001b[38;5;241m=\u001b[39m\u001b[38;5;28;01mNone\u001b[39;00m):\n\u001b[1;32m--> 314\u001b[0m     r, w, x \u001b[38;5;241m=\u001b[39m select\u001b[38;5;241m.\u001b[39mselect(r, w, w, timeout)\n\u001b[0;32m    315\u001b[0m     \u001b[38;5;28;01mreturn\u001b[39;00m r, w \u001b[38;5;241m+\u001b[39m x, []\n",
      "\u001b[1;31mKeyboardInterrupt\u001b[0m: "
     ]
    }
   ],
   "source": [
    "while True:\n",
    "    line = con.read_until(b'\\r');\n",
    "    if len(line) > 20:\n",
    "        try:\n",
    "            raw_str = (str(line).rstrip(\"\\\\r'\").lstrip(\"b'\"))\n",
    "            data = json.loads(raw_str)\n",
    "            if \"status\" in data.keys():\n",
    "                if status != data[\"status\"]:\n",
    "                    status = data[\"status\"]\n",
    "                    if data[\"status\"] == \"scanning\":\n",
    "                        printf(\"Scanning device..\")\n",
    "                    else:\n",
    "                        printf(\"Connection lost, trying to reconnect..\")\n",
    "            else:\n",
    "                if \"eSense\" in data.keys():\n",
    "                    if data[\"eSense\"][\"attention\"] + data[\"eSense\"][\"meditation\"] == 0:\n",
    "                        if status != \"fitting\":\n",
    "                            status = \"fitting\"\n",
    "                            printf(\"Fitting Device..\")\n",
    "\n",
    "                    else:\n",
    "                        if status != \"connected\":\n",
    "                            status = \"connected\"\n",
    "                            printf(\"Successfully Connected ..\")\n",
    "                        attention = data[\"eSense\"][\"attention\"]\n",
    "                        meditation = data[\"eSense\"][\"meditation\"]\n",
    "                        theta = data['eegPower']['theta']\n",
    "                        delta = data['eegPower']['delta']\n",
    "                        lowAlpha = data['eegPower']['lowAlpha']\n",
    "                        highAlpha = data['eegPower']['highAlpha']\n",
    "                        lowBeta = data['eegPower']['lowBeta']\n",
    "                        highBeta = data['eegPower']['highBeta']\n",
    "                        lowGamma = data['eegPower']['lowGamma']\n",
    "                        highGamma = data['eegPower']['highGamma']\n",
    "                        __attention_records.append(data[\"eSense\"][\"attention\"])\n",
    "                        __attention_records.append(data[\"eSense\"][\"meditation\"])\n",
    "                # elif \"blinkStrength\" in data.keys():\n",
    "                #     blinkStrength = data[\"blinkStrength\"]\n",
    "                #     __blinkStrength_records.append(data[\"blinkStrength\"])\n",
    "                #     printf(blinkStrength)\n",
    "        except:\n",
    "            printf(\"Read failure\")\n",
    "        try:\n",
    "            if(data[\"blinkStrength\"]):\n",
    "                printf(\"Blinking \"+data[\"blinkStrength\"])\n",
    "                blink(data[\"blinkStrength\"])\n",
    "        except:\n",
    "            printf(\"Not Blinking\"+str(data))"
   ]
  }
 ],
 "metadata": {
  "kernelspec": {
   "display_name": "Python 3",
   "language": "python",
   "name": "python3"
  },
  "language_info": {
   "codemirror_mode": {
    "name": "ipython",
    "version": 3
   },
   "file_extension": ".py",
   "mimetype": "text/x-python",
   "name": "python",
   "nbconvert_exporter": "python",
   "pygments_lexer": "ipython3",
   "version": "3.11.5"
  }
 },
 "nbformat": 4,
 "nbformat_minor": 2
}
